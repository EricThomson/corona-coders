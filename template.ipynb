{
 "cells": [
  {
   "cell_type": "markdown",
   "metadata": {},
   "source": [
    "# Corona Coders\n",
    "<img align = \"right\" width = \"150\" src=\".\\images\\corona_coders.jpg\" style=\"padding-left:20px\">\n",
    "\n",
    "Welcome to *Corona Coders*, where you can learn to code during the Coronavirus pandemic. \n",
    "\n",
    "## Lesson X: Title\n",
    "Intro. The three questions:\n",
    "\n",
    "0. Q0\n",
    "1. Q1\n",
    "2. Q2"
   ]
  },
  {
   "cell_type": "markdown",
   "metadata": {},
   "source": [
    "## 0."
   ]
  },
  {
   "cell_type": "markdown",
   "metadata": {},
   "source": [
    "## 1."
   ]
  },
  {
   "cell_type": "markdown",
   "metadata": {},
   "source": [
    "## 2."
   ]
  },
  {
   "cell_type": "markdown",
   "metadata": {},
   "source": [
    "## The sandbox\n",
    "<img align = \"right\" width = \"150\" src=\".\\images\\sandbox.png\" style=\"padding-left:20px\">"
   ]
  },
  {
   "cell_type": "markdown",
   "metadata": {},
   "source": [
    "## Quiz questions\n",
    "<img align = \"right\" width = \"75\" src=\".\\images\\hearts.png\">"
   ]
  },
  {
   "cell_type": "markdown",
   "metadata": {},
   "source": [
    "## To learn more"
   ]
  },
  {
   "cell_type": "markdown",
   "metadata": {},
   "source": []
  }
 ],
 "metadata": {
  "kernelspec": {
   "display_name": "Python 3",
   "language": "python",
   "name": "python3"
  },
  "language_info": {
   "codemirror_mode": {
    "name": "ipython",
    "version": 3
   },
   "file_extension": ".py",
   "mimetype": "text/x-python",
   "name": "python",
   "nbconvert_exporter": "python",
   "pygments_lexer": "ipython3",
   "version": "3.7.6"
  }
 },
 "nbformat": 4,
 "nbformat_minor": 4
}
