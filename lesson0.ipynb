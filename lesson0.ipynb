{
 "cells": [
  {
   "cell_type": "markdown",
   "metadata": {},
   "source": [
    "# Corona Coders\n",
    "\n",
    "<img align = \"right\" width = \"225\" src=\".\\images\\corona_coders.jpg\">\n",
    "\n",
    "Welcome to *Corona Coders*, where you can learn to code during the Coronavirus pandemic. \n",
    "\n",
    "## Lesson 0: What in the world is going on?\n",
    "If you are interested in learning to code, then you are in the right place. Our plan is to learn Python a little bit each day, in simple steps. We are going to move slowly, and assume you have never written a Python program before. While we will start simple, by the end you will be able to do fun stuff like make games to show off to parents or friends. Each lesson will take about 20 minutes or so, depending on how far you want to go with it. \n",
    "\n",
    "Today's lesson, Lesson Zero, will answer the following questions:    \n",
    "\n",
    "0. What is a computer program?\n",
    "1. What is Python?\n",
    "2. What is the best way to learn to code?\n",
    "\n",
    "## 0. What is a computer program?\n",
    "<img align = \"right\" width = \"500\" src=\".\\images\\super_fort.jpg\">\n",
    "Computer programs are recipes you write for you computer to instruct it to carry out certain tasks. Even video games like Fortnight are really just complicated recipes -- or sets of instructions -- that tell the computer what to show on the screen in response to what you do on your controller. In that sense Fortnight is no different from Super Mario Brothers. \n",
    "\n",
    "*Coding* is just another word for 'writing a computer program', and *code* is another word for the program itself. As a member of Corona Coders, you are going to learn Python! If you have ever used a smart phone, computer, or played a video game, there was code running in the background, making sure everything worked as it should. Or, if it did not work as it was meant to, that means there were bugs (mistakes) in the code. *Debugging* a program is the process of fixing it so it works exactly as you intended. You will learn more about that in future lessons.\n",
    "\n",
    "\n",
    "## 1. What is Python?\n",
    "Python is an extremely popular programming language. But what is a programming language? There are literally hundreds of different ways to program a computer, and we call each different one its own language (sort of like English and Spanish are different languages). \n",
    "\n",
    "Some programming languages are very kid-friendly because they let you write code by dragging pictures (or *icons*) around on a screen (Hopscotch and Scratch). At another extreme there are programs that are extremely hard to understand. For instance, *machine code* is code that is not really written for people, but for computers. Machine code basically is made up of long strings of numbers that the computer can quickly process, but that are very hard for people to process and understand.\n",
    "\n",
    "Between these extremes is where most programmers live, in the world of text-based programming languages that use ordinary words like *if*, *or*, and *and* to tell the computer what to do. Python is one such language, and it is extremely popular right now partly because it is *very easy* (relative to many other languages) to understand and learn. I like to think of it as a glorified calculator. If you enter 1+1, you will get the number 2 back. You can try it. In the following space, enter the expression `1+1`, and then hit `shift-enter` on your keyboard to run the code:"
   ]
  },
  {
   "cell_type": "code",
   "execution_count": 10,
   "metadata": {},
   "outputs": [],
   "source": [
    "# 0: Type in 1+1 in the space below, and then shift-enter to run the code\n"
   ]
  },
  {
   "cell_type": "markdown",
   "metadata": {},
   "source": [
    "There you have it, you have run your first Python program! If you want go ahead and enter some other mathematical expressions (subtraction, multiplication) like you would in a calculator in the next few spaces, and hit `shift-enter` to run the code. One thing to beware of: in Python, multiplication is not indicated with an x but the asterisk `*`, so 3x3 is written as `3*3`. In the three cells below, follow the instructions given after the `#`. "
   ]
  },
  {
   "cell_type": "code",
   "execution_count": 12,
   "metadata": {},
   "outputs": [],
   "source": [
    "# 1: Type in 3*3 below, then shift-enter to run the code\n"
   ]
  },
  {
   "cell_type": "code",
   "execution_count": 13,
   "metadata": {},
   "outputs": [],
   "source": [
    "# 2: Subtract two numbers in the space below\n"
   ]
  },
  {
   "cell_type": "code",
   "execution_count": 14,
   "metadata": {},
   "outputs": [],
   "source": [
    "# 3: Divide two numbers in the space below\n"
   ]
  },
  {
   "cell_type": "markdown",
   "metadata": {},
   "source": [
    "Congratulations, you just wrote four Python programs! They may seem simple because they are no harder than entering values in a calculator. But that's exactly what makes Python such a fun language: it is basically a glorified calculator that is infinitely expandable. If you want to do more complicated things, like make games, or more complicated math, there are tools available to do that.\n",
    "\n",
    "## 2. What is the best way to learn to code?\n",
    "<img align = \"right\" width = \"300\" src=\".\\images\\bike_rider.jpg\">\n",
    "The first rule is to have fun. It is great that you have read this far and have some interest in coding. Enjoy the process! There will be lots of opportunities to play with code in future lessons: this is crucial! If things start to feel confusing,  or seem broken, you may get frustrated. Don't worry -- that happens to every programmer every day. If you are stuck, just ask for help.\n",
    "\n",
    "Reading about programming is great, but just as you cannot learn to ride a bike by reading about it, you cannot learn to code by reading about code. You have to move! In that spirit, as Corona Coders, we are going to learn to code by coding! We will spend some time introducing ideas, but I want to give you time to play, make mistakes, and write your own code. We already did this above. \n",
    "\n",
    "Finally, remember the first rule: have fun. If something starts to get frustrating, there is nothing wrong with taking a break, getting a glass of water, doing some exercise, anything to take your mind off of it. Just leave and come back to it with a fresh mind. This is often a recipe for coding breakthroughs!"
   ]
  }
 ],
 "metadata": {
  "kernelspec": {
   "display_name": "Python 3",
   "language": "python",
   "name": "python3"
  },
  "language_info": {
   "codemirror_mode": {
    "name": "ipython",
    "version": 3
   },
   "file_extension": ".py",
   "mimetype": "text/x-python",
   "name": "python",
   "nbconvert_exporter": "python",
   "pygments_lexer": "ipython3",
   "version": "3.7.6"
  }
 },
 "nbformat": 4,
 "nbformat_minor": 4
}
