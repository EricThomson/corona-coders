{
 "cells": [
  {
   "cell_type": "markdown",
   "metadata": {},
   "source": [
    "# Corona Coders\n",
    "\n",
    "<img align = \"right\" width = \"150\" src=\".\\images\\corona_coders.jpg\">\n",
    "\n",
    "Welcome to *Corona Coders*, where you can learn to code during the Coronavirus pandemic. \n",
    "\n",
    "## Lesson 1: Where are we?\n",
    "Now that we know what coding is, and you are probably excited to start programming in Python, because you know that the best way to learn to code is to write code. Before we start, it is  important to set up a suitable workspace in which to write our programs. So today, we will learn about where we are and why, answering the following questions.\n",
    "\n",
    "0. How do Python programs work?\n",
    "1. What kinds of programs do people use to write their programs?\n",
    "2. What is a Jupyter notebook, and how do we use it?\n",
    "\n",
    "## 0. How do Python programs work?\n",
    "We learned in the previous lesson that Python is a really good programming language for beginners. It is a glorified calculator that can scale up to handle some of the most complicated tasks you can throw at it. HOw do they work, though? All Python programs work pretty much the same way: you have some code, such as the expression `1+1`, and you send it off to the *Python interpreter* which then reads this code and produces the appropriate output (`2`). \n",
    "\n",
    "<img align = \"center\" width = \"600\" src=\".\\images\\python_interpreter.jpg\">\n",
    "\n",
    "You don't need to worry much about the Python interpreter. It is basically the brains of Python -- it takes in the code, reads it, and then carries out the instructions you provided. As you might guess, the Python interpreter is itself a program and is written in a different programming language entirely (one that goes really fast)."
   ]
  },
  {
   "cell_type": "markdown",
   "metadata": {},
   "source": [
    "## 1. What software do people use to write Python programs?\n",
    "<img align = \"right\" width = \"150\" src=\".\\images\\spyder.png\">\n",
    "Before getting to the nitty-gritty details of Python, we should briefly discuss the tools people use to actually write Python programs.\n",
    "\n",
    "There are many different software tools you can use to write Python programs. At the simplest, you could use a text editor like Wordpad or Google Docs to write your code, and then send it off to the Python interpreter. At the other extreme, there are things known as *IDEs* (Integrated Development Environments). IDEs are fancy software platforms that let you do much more than write code and send it to the Python interpreter. They also include *debuggers* to help you remove errrors, and some will even communicate with the internet so you can easily publish your code to public *repositories* for the rest of the world to see. If you are curious about Python IDEs, you can Google some of them: some of the more popular ones include *Spyder*, *Eric*, *IDLE*, *PyCharm*, and *Visual Studio Code*. \n",
    "\n",
    "We will be working with a relatively simple development platform called *Jupyter* using *Jupyter notebooks* (https://jupyter.org/). In fact, you are working in a Jupyter notebook right now. Let's learn more about it next. "
   ]
  },
  {
   "cell_type": "markdown",
   "metadata": {},
   "source": [
    "## 2. What is a Jupyter notebook, and how do we use it?\n",
    "\n",
    "A Jupyter notebook is halfway between a full-fledged IDE and a simple text editor. It is great for communicating and texting out new ideas, drawing figures, and keeping a nead and readable notebook about what you are doing. In my experience, when teaching students how to code, they tend to gravitate toward Jupyter notebooks over other options because of the relative simplicity and ease of use, coupled with the flexibility of formatting when developing new ideas. Because they are so good for *communicating* ideas to human, in addition to Python, interpreters, that's why I decided to make *Cornoa Coders* in Jupyter notebooks. \n",
    "\n",
    "We will go over a few key ideas with Jupyter notebooks, from layout to how to actually write code!\n",
    "\n",
    "### Jupyter notebook layout\n",
    "Take a look around this screen, especially the top. You will notice a bunch of little widgets up there. Let's take a look:\n",
    "\n",
    "<img align = \"center\" width = \"600\" src=\".\\images\\jupyter_menu.png\">\n",
    "\n",
    "At the top left, next to the Jupyter logo, you will find the *name* of the current notebook you are working in. This one should say `lesson1`. Below that title bar is the *menu bar* which contains a bunch of dropdown menus, or lists of items that will show when you click on them. For instance, if you click on `File`, the first option is to create a `New notebook`, among many other things (such as `rename`, which is how you change the name of a notebook, or set the name of a new notebook). Frankly the `File` menu is the one I use the most, but you can also click on `Help` to see a useful list of keyboard shortcuts. Feel free to explore the menu bar, clicking on different things and see what happens.\n",
    "\n",
    "Below the Menu Bar is the *Toolbar*, which has a bunch of little icons (pictures) that you can click to do things. For instance, the little square on the left lets you save your progress, and the scissors icon will cut out a cell. What about the dropdown menu that says 'Code' in the picture (and in your window probably says 'Markdown'?). And what about the blank space below that says 'Code Cell'?\n",
    "\n",
    "These two things are very important, and deserve their own section!\n",
    "\n",
    "\n",
    "### Code cells and modes\n",
    "Below all the menus and toolbars are where the magic happens: the *cells*. These are the blank spaces where you can enter *code* (like you did in the previous lesson), or you can enter text (this is what you are reading now: this would absolutely confuse the Python interpreter but you are doing just fine!). To switch back and forth between Markdown and Code modes you can use the above dropdown menu we just discussed!\n",
    "\n",
    "We will get to the code part later, but for now you should understand that the text editor is called *markdown* because you can enter secret codes to tell the Jupyter notebook how to display it. This secret code is known as *markdown language*. I don't expect you do learn too much markdown, but here are a few of the secret codes:\n",
    "\n",
    "- Pound signs (`#`) for titles: Enter a single pound sign (`#`) followed by a space, followed by the text, to make a large title. Then keep adding pound signs to make titles that are smaller and smaller (so use to pound signs `##` to make it a little bit smaller).\n",
    "- Italics: put an asterisk `*` before and after the word.\n",
    "- Bold: put double asterisks `**`  before and after the word.\n",
    "- Numbered lists: if you want a numbered list just write numbers with periods after them, and a space, and then the text.\n",
    "\n",
    "Once you have entered your code, or markdown, into a cell, you then tell the Jupyter notebook that you are done by hitting `ctrl-enter` just as you did in the previous lesson after you entered your mathematical expressions. When you do that in a code cell you will send the code to the Python interpreter, and see the output of your code. When you do it in a markdown cell, you will see nicely formatted text like you are reading right now.\n",
    "\n",
    "If you want to go back to changing a cell, after you have entered `ctrl-enter`, you can just double click on it to edit it again. \n",
    "\n",
    "As an exercise, try running the following markdown cell:"
   ]
  },
  {
   "cell_type": "markdown",
   "metadata": {},
   "source": [
    "### Examples\n",
    "1. Python is fun\n",
    "2. This is a list\n",
    "3. Add two more to this list and then hit `cntrl-enter` to see how it looks."
   ]
  },
  {
   "cell_type": "code",
   "execution_count": 9,
   "metadata": {},
   "outputs": [],
   "source": [
    "# This is a blank code cell that wants Python code. Try something out and then hit ctrl-enter\n"
   ]
  },
  {
   "cell_type": "markdown",
   "metadata": {},
   "source": [
    "To make a *new* cell, below the current one, just click `Esc-b` (b is for below), or go to the Menu bar above: `Insert->Insert Cell Above`.\n",
    "\n",
    "This may all sound tricky or confusing, but I guarantee you will get the hang of it. Jupyter provides the best of both worlds: one, the ability to interface with your Python interpreter and get code running. Two, a relatively simple markdown editor that lets you display formatted text in a way that future you, and other people, will be able to read."
   ]
  },
  {
   "cell_type": "markdown",
   "metadata": {},
   "source": [
    "## Quiz questions\n",
    "<img align = \"right\" width = \"100\" src=\".\\images\\hearts.png\">\n",
    "\n",
    "1. What does the Python interpreter do?\n",
    "2. Rank the following in terms of number of features provided (from least to most): IDE, text editor, Jupyter notebook.\n",
    "3. Use the Menu bar to create a new Jupyter notebook named `testing`. Create a notebook with two cells (one markdown, one code). The markdown cell should have a title (`#My first notebook`) and some text after the title that describes your notebook. It should also have a second part with a smaller title (`##What I want to do with Python`). Have this subsection include a numbered list. In the *code* cell, enter three simple math expressions (subtraction, multiplication, division). To show the results you should `print` them, so instead of just entering `6/3`, you should type in `print(6/3)`. This will force your Python interpreter to print out the result of the expression to your notebook. Note this third question is a tough one, but you can do it! Please ask me if you get stuck, but be sure to try hard first. I will ask you what you tried before you asked me. \n",
    "\n",
    "## To learn more\n",
    "To learn more about Jupyter notebooks: https://jupyter-notebook.readthedocs.io/en/stable/notebook.html"
   ]
  },
  {
   "cell_type": "code",
   "execution_count": null,
   "metadata": {},
   "outputs": [],
   "source": []
  }
 ],
 "metadata": {
  "kernelspec": {
   "display_name": "Python 3",
   "language": "python",
   "name": "python3"
  },
  "language_info": {
   "codemirror_mode": {
    "name": "ipython",
    "version": 3
   },
   "file_extension": ".py",
   "mimetype": "text/x-python",
   "name": "python",
   "nbconvert_exporter": "python",
   "pygments_lexer": "ipython3",
   "version": "3.7.6"
  }
 },
 "nbformat": 4,
 "nbformat_minor": 4
}
