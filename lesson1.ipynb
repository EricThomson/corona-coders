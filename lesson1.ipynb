{
 "cells": [
  {
   "cell_type": "markdown",
   "metadata": {},
   "source": [
    "# Corona Coders\n",
    "\n",
    "<img align = \"right\" width = \"200\" src=\".\\images\\corona_coders.jpg\" style=\"padding-left:20px\">\n",
    "\n",
    "Welcome to *Corona Coders*, where you can learn to code during the Coronavirus pandemic. \n",
    "\n",
    "## Lesson 1: Python and Python programming\n",
    "Now that we know what coding is, and you are probably excited to start programming in Python, because you know that the best way to learn to code is to write code. Before we start, it is  important to set up a suitable workspace in which to write our programs. So today, we will learn about where we are and why, answering the following questions:\n",
    "\n",
    "0. How do Python programs work?\n",
    "1. What kinds of software do people use to write their programs?\n",
    "\n",
    "\n",
    "## 0. How do Python programs work?\n",
    "We learned in the previous lesson that Python is a really good programming language for beginners. It is a glorified calculator that can scale up to handle some of the most complicated tasks you can throw at it. HOw do they work, though? All Python programs work pretty much the same way: you have some code, such as the expression `1+1`, and you send it off to the *Python interpreter* which then reads this code and produces the appropriate output (`2`). \n",
    "\n",
    "<img align = \"center\" width = \"600\" src=\".\\images\\python_interpreter.jpg\">\n",
    "\n",
    "You don't need to worry much about the Python interpreter. It is basically the brains of Python -- it takes in the code, reads it, and then carries out the instructions you provided. As you might guess, the Python interpreter is itself a program and is written in a different programming language entirely (one that goes really fast)."
   ]
  },
  {
   "cell_type": "markdown",
   "metadata": {},
   "source": [
    "## 1. What software do people use to write Python programs?\n",
    "<img align = \"right\" width = \"150\" src=\".\\images\\spyder.png\">\n",
    "Before programming in Python ourselves, let's briefly discuss the tools people use to actually write Python programs. There are *many* different options available.\n",
    "\n",
    "At the simplest, you could use a text editor like Wordpad or Google Docs to write your code, and then send it off to the Python interpreter. At the other extreme, there are things known as *IDEs* (Integrated Development Environments). IDEs are fancy software platforms that let you do much more than write code. They also include *debuggers* to help you remove errrors; some will even communicate with the internet so you can easily publish your code to public *repositories* for the rest of the world to see. If you are curious about Python IDEs, you can Google them: some of the more popular ones include *Spyder*, *Eric*, *IDLE*, *PyCharm*, and *Visual Studio Code*. \n",
    "\n",
    "We will be working with a relatively simple development platform called *Jupyter* (https://jupyter.org/). In fact, you are working in a Jupyter notebook right now. Because Jupyter notebooks have a lot of moving parts, we will take the entire next lesson to learn about them."
   ]
  },
  {
   "cell_type": "markdown",
   "metadata": {},
   "source": [
    "## Quiz questions\n",
    "<img align = \"right\" width = \"100\" src=\".\\images\\hearts.png\">\n",
    "\n",
    "0. What does the Python interpreter do?\n",
    "1. If you wanted to write Python code using software that helped you debug your code, would you use an IDE or a text editor? \n",
    "\n",
    "## To learn more   \n",
    "To learn more about some different IDEs:\n",
    "- IDLE (https://realpython.com/python-idle/) This is the original Python IDE written by the inventor of Python.\n",
    "- Spyder (https://www.spyder-ide.org/) A simple IDE great for scientific programming.\n",
    "- ERIC (https://eric-ide.python-projects.org/) A more complex IDE, also free. "
   ]
  },
  {
   "cell_type": "code",
   "execution_count": null,
   "metadata": {},
   "outputs": [],
   "source": []
  }
 ],
 "metadata": {
  "kernelspec": {
   "display_name": "Python 3",
   "language": "python",
   "name": "python3"
  },
  "language_info": {
   "codemirror_mode": {
    "name": "ipython",
    "version": 3
   },
   "file_extension": ".py",
   "mimetype": "text/x-python",
   "name": "python",
   "nbconvert_exporter": "python",
   "pygments_lexer": "ipython3",
   "version": "3.7.6"
  }
 },
 "nbformat": 4,
 "nbformat_minor": 4
}
