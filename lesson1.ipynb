{
 "cells": [
  {
   "cell_type": "markdown",
   "metadata": {},
   "source": [
    "# Corona Coders\n",
    "\n",
    "<img align = \"right\" width = \"150\" src=\".\\images\\corona_coders.jpg\">\n",
    "\n",
    "Welcome to *Corona Coders*, where you can learn to code during the Coronavirus pandemic. \n",
    "\n",
    "## Lesson 1: Where are we?\n",
    "Now that we know what coding is, and you are probably excited to start programming in Python, because you know that the best way to learn to code is to write code. Before we start, it is  important to set up a suitable workspace in which to write our programs. So today, we will learn about where we are and why, answering the following questions.\n",
    "\n",
    "0. How do Python programs work?\n",
    "1. What kinds of programs do people use to write their programs?\n",
    "2. What is a Jupyter notebook, and how do we use it?\n",
    "\n",
    "## 0. How do Python programs work?\n",
    "\n",
    "There are many different programs you can use to write code: some are very fancy and expensive. Some are basically text editors. \n",
    "\n",
    "What they all have in common is that you need a text editor where you can write your code, and then some say to send this code to your Python *interpreter*, which is basically Python's brain -- it takes in the code, reads it, and then carries out the instructions.\n",
    "<img align = \"center\" width = \"600\" src=\".\\images\\python_interpreter.jpg\">"
   ]
  },
  {
   "cell_type": "markdown",
   "metadata": {},
   "source": [
    "## 1. What kinds of programs do people use to write Python programs?\n",
    "Quick overview of what an IDE is (wrapper for the python interpreter that makes it much more convenient). PyCharm, Spyder, Sublime Text. But y ou don't even need one you can literally run it using a simple text editor (like Notepad or Google docs): anything that you can use to write stuff with your keyboard! Then you can just enter something like the following from your computer's command line: `python program.py`. \n",
    "\n",
    "Why don't you go ahead and try this. Open your Anaconda Prompt, and run blah blah.\n",
    "\n",
    "But this is all pretty complicated, and is sort of boring. Jupyter notebooks make code more *readable*, communication, etc etc. \n"
   ]
  },
  {
   "cell_type": "markdown",
   "metadata": {},
   "source": [
    "## 2. What is a Jupyter notebook, and how do we use it?\n",
    "https://jupyter-notebook.readthedocs.io/en/stable/notebook.html\n",
    "\n",
    "The two modes: markdown and text. What is a cell?\n",
    "Basic command line and menu/toolbar interface. How to add a new cell. How to change b/w markdown and code modes.\n",
    "\n",
    "Open a new file, and do some stuff. File->New->Rename.\n",
    "\n",
    "[PICS of menu/etc] \n",
    "File->Open\n",
    "\n",
    "Basics of markdown: # for big header. ## for smaller, ### for smaller, - for list, 1. etc for numbered list. "
   ]
  },
  {
   "cell_type": "markdown",
   "metadata": {},
   "source": [
    "## Quiz questions\n",
    "1. What does the Python interpreter do?\n",
    "2. What is an IDE?\n",
    "3. Make a new Jupyter notebook named `testing` that has two cells, a markdown cell with a title , and some text in it. And a second code cell that does three simple math expressions (subtraction, multiplication, divisoin). TO show the results you shoudl print it, so instead of `1+1` put `print(1+1)`, which will force your Python interpreter to print out the result of the expression to the screen.\n"
   ]
  },
  {
   "cell_type": "code",
   "execution_count": null,
   "metadata": {},
   "outputs": [],
   "source": []
  }
 ],
 "metadata": {
  "kernelspec": {
   "display_name": "Python 3",
   "language": "python",
   "name": "python3"
  },
  "language_info": {
   "codemirror_mode": {
    "name": "ipython",
    "version": 3
   },
   "file_extension": ".py",
   "mimetype": "text/x-python",
   "name": "python",
   "nbconvert_exporter": "python",
   "pygments_lexer": "ipython3",
   "version": "3.7.6"
  }
 },
 "nbformat": 4,
 "nbformat_minor": 4
}
