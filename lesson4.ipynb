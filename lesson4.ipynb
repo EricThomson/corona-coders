{
 "cells": [
  {
   "cell_type": "markdown",
   "metadata": {},
   "source": [
    "# Corona Coders\n",
    "<img align = \"right\" width = \"150\" src=\".\\images\\corona_coders.jpg\" style=\"padding-left:20px\">\n",
    "\n",
    "Welcome to *Corona Coders*, where you can learn to code during the Coronavirus pandemic. \n",
    "\n",
    "## Lesson 4: Python basics -- comments and strings\n",
    "So in the previous lesson, we finally started to learn some Python. Congratulations you are a programmer now!\n",
    "\n",
    "Keep at it -- this stuff about data types can be sort of boring. But in the next lesson you will be making a simple game using everything from the first five lessons! We have just one more day of background stuff before things really start to come together! We will answer the following questions:\n",
    "\n",
    "0. What is a code comment?\n",
    "1. What is a string and what are the main methods we can apply to them?\n",
    "\n",
    "Have fun!"
   ]
  },
  {
   "cell_type": "markdown",
   "metadata": {},
   "source": [
    "## 0. What is a code comment?\n",
    "As we know, the Python interpreter takes in instructions, and returns some output. The set of instructions, or program, is a set of expressions in Python. However, what if we want to write a comment in the code for ourselves, or others, who are reading the code later? For instance, we might want to explain a particularly complicated line of code, or describe what the program does. These are things we want the Python interpreter to ignore. \n",
    "\n",
    "Luckily Python has two ways to leave comments in the code, which tell the interpreter to ignore what is coming. \n",
    "You have already seen lots of comments, which are indicated in a program with the pound sign `#`. For instance, run the following code block:"
   ]
  },
  {
   "cell_type": "code",
   "execution_count": 23,
   "metadata": {},
   "outputs": [
    {
     "data": {
      "text/plain": [
       "2"
      ]
     },
     "execution_count": 23,
     "metadata": {},
     "output_type": "execute_result"
    }
   ],
   "source": [
    "# This comment is invisible to the interpreter\n",
    "1+1  #this code will run"
   ]
  },
  {
   "cell_type": "markdown",
   "metadata": {},
   "source": [
    "Now, try running a code block with a note like that uncommented (i.e., remove the pound sign):"
   ]
  },
  {
   "cell_type": "code",
   "execution_count": 5,
   "metadata": {},
   "outputs": [],
   "source": [
    "# Remove the pound sign and try to run"
   ]
  },
  {
   "cell_type": "markdown",
   "metadata": {},
   "source": [
    "What happened?"
   ]
  },
  {
   "cell_type": "markdown",
   "metadata": {},
   "source": [
    "## 1. What is a string and what are the main methods we can apply to them?\n",
    "Now that you understand why I've been putting pound signs everywhere in the code, let's get back to learning about data types. We are almost done with data types! :) A *string* is basically a bunch of text surrounded by quotes (either single quote or double quote). Let's look at three examples (and print the type of the first just to prove I'm not lying):"
   ]
  },
  {
   "cell_type": "code",
   "execution_count": 10,
   "metadata": {},
   "outputs": [
    {
     "name": "stdout",
     "output_type": "stream",
     "text": [
      "I am a string\n",
      "<class 'str'>\n",
      "I am also a string 2\n",
      "I am a 'string' 3 aren't I interesting?\n"
     ]
    }
   ],
   "source": [
    "string1 = 'I am a string'\n",
    "string2 = \"I am also a string\"\n",
    "string3 = \"I am a 'string' 3 aren't I interesting?\"\n",
    "\n",
    "print(string1)\n",
    "print(type(string1))\n",
    "print(string2)\n",
    "print(string3)"
   ]
  },
  {
   "cell_type": "markdown",
   "metadata": {},
   "source": [
    "Note if you want to put a quote *inside* of a string, you just use the other type of quotation mark inside it. So as you see in `string3`, if you want to show a single quote inside of a string, you make the string using double quotes.\n",
    "\n",
    "Just as the numerical types have rules for adding and dividing and multiplying those types, so do strings. One funny thing is that you can add two strings, in a method known as *concatenation*, and the result is another string that is just the combination of the two:"
   ]
  },
  {
   "cell_type": "code",
   "execution_count": 15,
   "metadata": {},
   "outputs": [
    {
     "name": "stdout",
     "output_type": "stream",
     "text": [
      "I am a string -- I am also a string 2\n"
     ]
    }
   ],
   "source": [
    "concatenated_string = string1 + ' -- ' + string2\n",
    "print(concatenated_string)"
   ]
  },
  {
   "cell_type": "markdown",
   "metadata": {},
   "source": [
    "You may have noticed I snuck in a third string in the middle of `string1` and `string2`. You can concatenate any number of strings!\n",
    "\n",
    "Other useful methods include `upper()` and `lower()`, which let you change a string to all upper or all lower case, respectively. Let's apply it to one of our strings above. Study the following example carefully, as it has some new ideas in it:"
   ]
  },
  {
   "cell_type": "code",
   "execution_count": 16,
   "metadata": {},
   "outputs": [
    {
     "name": "stdout",
     "output_type": "stream",
     "text": [
      "I AM A STRING\n"
     ]
    }
   ],
   "source": [
    "cap_string = string1.upper()\n",
    "print(cap_string)"
   ]
  },
  {
   "cell_type": "markdown",
   "metadata": {},
   "source": [
    "\n",
    "Notice this new strange syntax (*syntax* is fancy talk for 'rules of a language'). To apply a string method to `string1`, and create the new string (`cap_string`), we used a dot, followed by the name of the method, followed by parentheses. You will see this kind of pattern a lot, so be sure you are comfortable with it!"
   ]
  },
  {
   "cell_type": "markdown",
   "metadata": {},
   "source": [
    "<img align = \"right\" width = \"150\" src=\".\\images\\sandbox.png\">\n",
    "\n",
    "## The sandbox\n",
    "\n",
    "Ok let's play a little with comments and strings. In each block you will find suggestions about what to do, but feel free to play around using any of the ideas introduced here or in any other lessons!"
   ]
  },
  {
   "cell_type": "code",
   "execution_count": 21,
   "metadata": {},
   "outputs": [],
   "source": [
    "# Make a string (anything you want) and call it my_string\n",
    "\n"
   ]
  },
  {
   "cell_type": "code",
   "execution_count": 18,
   "metadata": {},
   "outputs": [],
   "source": [
    "# Convert my_string to all upper case, call the new result cap_string, and print it\n"
   ]
  },
  {
   "cell_type": "code",
   "execution_count": 19,
   "metadata": {},
   "outputs": [],
   "source": [
    "# Convert cap_string to lower case, and call it lower_string, and print it\n"
   ]
  },
  {
   "cell_type": "markdown",
   "metadata": {},
   "source": [
    "## Quiz questions\n",
    "\n",
    "<img align = \"right\" width = \"75\" src=\".\\images\\hearts.png\">\n",
    "\n",
    "0. How do you comment out code?\n",
    "1. How would you make a string with double quotes inside of it? Go ahead and do it\n",
    "1. How do you convert the string \"hello\" to all uppercase?"
   ]
  },
  {
   "cell_type": "markdown",
   "metadata": {},
   "source": [
    "**Answer to Question 0:**    \n",
    "Type your answer here\n"
   ]
  },
  {
   "cell_type": "markdown",
   "metadata": {},
   "source": [
    "**Answer to Question 1:**    \n",
    "Type your answer here\n",
    "\n"
   ]
  },
  {
   "cell_type": "markdown",
   "metadata": {},
   "source": [
    "**Answer to Question 2:**    \n",
    "Type your answer here\n",
    "\n"
   ]
  },
  {
   "cell_type": "code",
   "execution_count": null,
   "metadata": {},
   "outputs": [],
   "source": []
  }
 ],
 "metadata": {
  "kernelspec": {
   "display_name": "Python 3",
   "language": "python",
   "name": "python3"
  },
  "language_info": {
   "codemirror_mode": {
    "name": "ipython",
    "version": 3
   },
   "file_extension": ".py",
   "mimetype": "text/x-python",
   "name": "python",
   "nbconvert_exporter": "python",
   "pygments_lexer": "ipython3",
   "version": "3.7.6"
  }
 },
 "nbformat": 4,
 "nbformat_minor": 4
}
