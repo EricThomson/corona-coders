{
 "cells": [
  {
   "cell_type": "markdown",
   "metadata": {},
   "source": [
    "# Corona Coders\n",
    "<img align = \"right\" width = \"150\" src=\".\\images\\corona_coders.jpg\" style=\"padding-left:20px\">\n",
    "\n",
    "Welcome to *Corona Coders*, where you can learn to code during the Coronavirus pandemic. \n",
    "\n",
    "## Lesson 3: Python basics -- numeric data types\n",
    "It is time to start doing some Python! As mentioned in [Lesson 0](lesson0.ipynb), we are going to move slowly, but hopefully do some things that are fun enough to keep everyone interested. Today we are going to start by talking about some of the building blocks in Python.\n",
    "\n",
    "0. What is a data type, and why care?\n",
    "1. What are the numeric data types in Python?\n",
    "\n",
    "In this lesson we are also introducing the **Sandbox** section, which will be a place for you to practice coding yourself!"
   ]
  },
  {
   "cell_type": "markdown",
   "metadata": {},
   "source": [
    "## 0. What is a data type, and why care?\n",
    "The Python interpreter works with different types of data, and these are known, surprisingly enough, as *data types*. Each data type is something like a number or a group of characters ('dog'). Why do they matter? Because once the Python interpreter has figured out what data type it has been given, then it knows *what it can do with it* (that is, the *methods*). For instance, if it is a number, then it knows it can add it to another number. If it is a string (like the word 'cat') then it knows it can CAPITALIZE it. From the interpreter's perspective, data types are the fundamental building blocks of all Python code: sort of like the bricks and shingles are to building a house."
   ]
  },
  {
   "cell_type": "markdown",
   "metadata": {},
   "source": [
    "## 1. What are the numeric data types in Python?\n",
    "There are three main basic data types in Python: numeric types, strings, and booleans. Let's learn about each of them. One cool thing about Python is, if there is ever any object X and you don't know what type it is, you can always enter `type(X)` and it will tell you!\n",
    "\n",
    "The numeric data types are simply...numbers! They are the types of things you enter in your calculator (`1`, `2.3`), and you can use all the standard methods you would expect on numbers. That is, you can do basic arithmetic, which includes addition, subtraction, multiplication, and division. \n",
    "\n",
    "There is one wrinkle here. Python recognizes *two* different types of numbers: *integers* (aka *ints*) and *floating point numbers* (aka *floats*). Integers are whole numbers without any decimals. When you want to write an `int`, you write it without a decimal after it, and when Python *prints* an `int`, it will appear the same way. \n",
    "\n",
    "The strangely-named *floats* are numbers with decimals (or, remainders that cannot be reduced any more), and these always are shown with a decimal. This is easy enough to see. In the following, delete the pound signs (this is known as 'uncommenting the code), and run the code:"
   ]
  },
  {
   "cell_type": "code",
   "execution_count": null,
   "metadata": {},
   "outputs": [],
   "source": [
    "#type(1)"
   ]
  },
  {
   "cell_type": "code",
   "execution_count": null,
   "metadata": {},
   "outputs": [],
   "source": [
    "#print(1)"
   ]
  },
  {
   "cell_type": "code",
   "execution_count": 4,
   "metadata": {},
   "outputs": [],
   "source": [
    "#type(1.0)"
   ]
  },
  {
   "cell_type": "code",
   "execution_count": null,
   "metadata": {},
   "outputs": [],
   "source": [
    "#print(1.0)"
   ]
  },
  {
   "cell_type": "markdown",
   "metadata": {},
   "source": [
    "As mentioned, you can do all the standard arithmetic operations on these numbers. Go ahead and uncomment the following and run them:"
   ]
  },
  {
   "cell_type": "code",
   "execution_count": 20,
   "metadata": {},
   "outputs": [],
   "source": [
    "#7 + 6"
   ]
  },
  {
   "cell_type": "code",
   "execution_count": 21,
   "metadata": {},
   "outputs": [],
   "source": [
    "#33/66"
   ]
  },
  {
   "cell_type": "code",
   "execution_count": 22,
   "metadata": {},
   "outputs": [],
   "source": [
    "#10-4.0"
   ]
  },
  {
   "cell_type": "code",
   "execution_count": 23,
   "metadata": {},
   "outputs": [],
   "source": [
    "#25*4"
   ]
  },
  {
   "cell_type": "markdown",
   "metadata": {},
   "source": [
    "You have probably noticed that there are some interesting rules the Python interpreter follows when combining `int` and `float` types. When you add, subtract, or multiply two numbers of the same type, the result is that same type. When you *divide* two numbers (no matter what type they are), you get a decimal back. When you *mix two types* together (like `10-4.0`) you get a `float` back (this is known as *type conversion*). "
   ]
  },
  {
   "cell_type": "markdown",
   "metadata": {},
   "source": [
    "## The sandbox\n",
    "<img align = \"right\" width = \"150\" src=\".\\images\\sandbox.png\">\n",
    "Enough talking. It's time for you to play. You know what Python is, you know about Jupyter notebooks, and you know all about the numeric types. Go ahead and just start entering code and see what happens. Don't worrya bout breaking anything: you will not. I recommend stringing together a lot of mathematical operations, and see what happens. Check what type something is.\n",
    "\n",
    "If you need to review how to run code, or to switch from markdown to code mode, see [Lesson 2](lesson2.ipynb)."
   ]
  },
  {
   "cell_type": "code",
   "execution_count": 17,
   "metadata": {},
   "outputs": [],
   "source": [
    "# Sandbox play 0 (make this one simple)\n"
   ]
  },
  {
   "cell_type": "code",
   "execution_count": 18,
   "metadata": {},
   "outputs": [],
   "source": [
    "# Sandbox play 1 (make this one complicated)\n"
   ]
  },
  {
   "cell_type": "code",
   "execution_count": 19,
   "metadata": {},
   "outputs": [],
   "source": [
    "# Sandbox play 2 (use type() to find the type of an expression)\n"
   ]
  },
  {
   "cell_type": "code",
   "execution_count": null,
   "metadata": {},
   "outputs": [],
   "source": [
    "# Sandbox play 3: Do whatever you want and see what happens!!!\n"
   ]
  },
  {
   "cell_type": "markdown",
   "metadata": {},
   "source": [
    "## Quiz questions\n",
    "<img align = \"right\" width = \"75\" src=\".\\images\\hearts.png\">\n",
    "0. What are the two numeric types, and how are they different?\n",
    "1. If you divide an `int` by an `int`, what type is returned, an `int` or a `float`?\n",
    "2. What is the result if you do `1+1*10`: will it be `20` or `11`? It is important to know such order of operations when using Python as a calculator."
   ]
  },
  {
   "cell_type": "markdown",
   "metadata": {},
   "source": [
    "Answer to question 0:\n",
    "\n",
    "\n"
   ]
  },
  {
   "cell_type": "markdown",
   "metadata": {},
   "source": [
    "Answer to question 1:\n",
    "\n"
   ]
  },
  {
   "cell_type": "markdown",
   "metadata": {},
   "source": [
    "Answer 2:\n",
    "\n"
   ]
  },
  {
   "cell_type": "code",
   "execution_count": null,
   "metadata": {},
   "outputs": [],
   "source": []
  }
 ],
 "metadata": {
  "kernelspec": {
   "display_name": "Python 3",
   "language": "python",
   "name": "python3"
  },
  "language_info": {
   "codemirror_mode": {
    "name": "ipython",
    "version": 3
   },
   "file_extension": ".py",
   "mimetype": "text/x-python",
   "name": "python",
   "nbconvert_exporter": "python",
   "pygments_lexer": "ipython3",
   "version": "3.7.6"
  }
 },
 "nbformat": 4,
 "nbformat_minor": 4
}
