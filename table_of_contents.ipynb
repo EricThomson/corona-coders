{
 "cells": [
  {
   "cell_type": "markdown",
   "metadata": {},
   "source": [
    "# Corona Coders\n",
    "\n",
    "<img align = \"right\" width = \"225\" src=\".\\images\\corona_coders.jpg\" style=\"padding-left:20px\">\n",
    "\n",
    "Welcome to *Corona Coders*, where you can learn to code during the Coronavirus pandemic. Click on a link below to go to a particular lesson.    \n",
    "\n",
    "### Part I: Getting oriented\n",
    "- [Lesson 0: A brief introduction to programming](lesson0.ipynb)\n",
    "- [Lesson 1: Python and Python programming](lesson1.ipynb)\n",
    "- [Lesson 2: A trip to Jupyter](lesson2.ipynb)\n",
    "\n",
    "### Part II: Learning Python\n",
    "- [Lesson 3: Python basics -- numeric data types](lesson3.ipynb)\n",
    "- [Lesson 4: Python basics -- comments and strings](lesson4.ipynb)\n",
    "- Lesson 5: Python applications -- booleans and a guessing game!\n",
    "- Lesson 6: Python basics -- lists and variables\n",
    "\n",
    "### Part III: Using Python\n"
   ]
  },
  {
   "cell_type": "code",
   "execution_count": null,
   "metadata": {},
   "outputs": [],
   "source": []
  }
 ],
 "metadata": {
  "kernelspec": {
   "display_name": "Python 3",
   "language": "python",
   "name": "python3"
  },
  "language_info": {
   "codemirror_mode": {
    "name": "ipython",
    "version": 3
   },
   "file_extension": ".py",
   "mimetype": "text/x-python",
   "name": "python",
   "nbconvert_exporter": "python",
   "pygments_lexer": "ipython3",
   "version": "3.7.6"
  }
 },
 "nbformat": 4,
 "nbformat_minor": 4
}
