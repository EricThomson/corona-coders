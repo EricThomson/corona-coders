{
 "cells": [
  {
   "cell_type": "markdown",
   "metadata": {},
   "source": [
    "# Corona Coders\n",
    "<img align = \"right\" width = \"150\" src=\".\\images\\corona_coders.jpg\" style=\"padding-left:20px\">\n",
    "\n",
    "Welcome to *Corona Coders*, where you can learn to code during the Coronavirus pandemic. \n",
    "\n",
    "## Lesson 2: A trip to Jupyter\n",
    "In Lesson 0, we learned about what Python programs are, and in Lesson 1 we learned a bit about how they work, and a couple of different ways you can write code (text editors and IDEs). Here we will learn about a more recent development for writing code, the Jupyter notebook, which is what you are reading now. In this lesson we will address the following questions:\n",
    "\n",
    "0. What is a Jupyter notebook and why will we use them?\n",
    "1. How are the notebooks organized?\n",
    "2. How do you write text and code into the notebooks?\n",
    "\n",
    "Note that while Jupyter notebooks are usually associated with Python, the name 'Jupyter' is formed by combining the names of three popular programming languages: **Ju**lia, **Pyt**hon, and **R**. One nice thing about Jupyter notebooks is that you can use them to program in many different languages."
   ]
  },
  {
   "cell_type": "markdown",
   "metadata": {},
   "source": [
    "## 0. What is a Jupyter notebook and why will we use them?\n",
    "<img src=\".\\images\\jupiter.png\" align = \"left\" width=\"155\" style=\"padding-right:25px\">\n",
    "\n",
    "While an Integrated Development Environment (IDE) is meant for writing code efficiently, Jupyter notebooks are more conducive to learning and communicating programming ideas. A Jupyter notebook combines the ability to run Python code with the ability to display text that is formatted in a pleasing way, so people can more readily understand what you are trying to say. \n",
    "\n",
    "This is done with the ingenious, and sometimes confusing, use of *two modes of entering information*. One, the *code* mode, lets you enter Python code. Second, *markdown* mode lets you enter nicely entering formatted text like you are reading now.\n",
    "\n",
    "This may all sound tricky or confusing, but I guarantee you will get the hang of it. Jupyter provides two great services. On one hand, a convenient interface with your Python interpreter for writing code. On the other hand, a relatively mechanism for displaying formatted text in a way that future you, and other people, will be able to follow. And as you've probably noticed by now, you can even integrate pictures into your markdown.\n",
    "\n",
    "In my experience, when teaching students how to code, they tend to gravitate toward Jupyter notebooks over other options. They are relatively easy to use, and fun to read. This ease of use, and the resulting nicely formatted documents, is what made me decide to write these lessons as Jupyter notebooks. \n",
    "\n",
    "In the rest of this lesson we will go over the key ideas with Jupyter notebooks: just enough to get you started coding in the rest of the lessons!"
   ]
  },
  {
   "cell_type": "markdown",
   "metadata": {},
   "source": [
    "## 1. How are Jupyter notebooks organized?\n",
    "Take a look around this screen, especially the top. You will notice a bunch of little widgets up there. This is the control panel for your notebook. Let's take a look:\n",
    "\n",
    "<img align = \"center\" width = \"600\" src=\".\\images\\jupyter_menu.png\" style=\"padding:10px\">\n",
    "\n",
    "At the top left, next to the Jupyter logo, you will find the *name* of the current notebook you are working in. This one should say `lesson2`. Below that title is the *menu bar* which contains a bunch of dropdown menus, or lists of items that will show when you click on them. \n",
    "\n",
    "For instance, if you click on `File`, the first option is to create a `New notebook`, among many other things (such as `rename`, which is how you change the name of a notebook, or set the name of a new notebook). If you click on `Help` you will see a useful list of keyboard shortcuts. \n",
    "\n",
    "Below the Menu Bar is the *Toolbar*, which has a bunch of little icons (pictures) that you can click to do things. For instance, the little square on the left lets you save your progress. The scissor icon will remove a cell. The button that says *Run* will run the code in a cell (or display the text). If you hover your mouse cursor over an icon for a bit, a little description of what will happen if you click will appear.\n",
    "\n",
    "What about the dropdown menu that says 'Code' in the picture (and in your window probably says 'Markdown'?). This is connected to the part of the window below the Toolbar: the big blank space below that says 'Code Cell'. \n",
    "\n",
    "These elements are so important they deserve their own section!"
   ]
  },
  {
   "cell_type": "markdown",
   "metadata": {},
   "source": [
    "## 2. How do you write text and code into the notebooks?\n",
    "Below all the menus and toolbars are where the magic happens: the *cells*. These are the blank spaces where you can enter *code* (like you did in the previous lesson), or *markdown* (this is what you are reading now: this would completely confuse the Python interpreter but you are doing just fine!). To tell Jupyter whether you are entering code or markdown, you can use the above dropdown menu we just discussed!\n",
    "\n",
    "### Markdown\n",
    "We will get to the code part later: the text editor is called *markdown* because you can enter secret codes to tell the Jupyter notebook how to display it. This secret code is known as *markdown language*. I don't expect you do learn too much markdown, but here are a few of the secret codes:\n",
    "\n",
    "- Pound signs (`#`) for titles: Enter a single pound sign (`#`) followed by a space, followed by the text, to make a large title. Then keep adding pound signs to make titles that are smaller and smaller (so use to pound signs `##` to make it a little bit smaller).\n",
    "- Italics: put an asterisk `*` before and after the word.\n",
    "- Bold: put double asterisks `**`  before and after the word.\n",
    "- Numbered lists: if you want a numbered list just write numbers with periods after them, and a space, and then the text.\n",
    "\n",
    "Once you have entered your material into a cell, you then tell the Jupyter notebook that you are done by hitting `ctrl-enter`, or hit the little `Run` toolbar mentioned above. Why don't you practice by running the following (feel free to change it if you want): "
   ]
  },
  {
   "cell_type": "markdown",
   "metadata": {},
   "source": [
    "# Silly title here\n",
    "1. Python is *fun*\n",
    "2. This is **numbered list**"
   ]
  },
  {
   "cell_type": "markdown",
   "metadata": {},
   "source": [
    "Why don't you practice writing your own markdown? In the following cell, write some markdown that contains a single title (`#`), a numbered list, and then run it by clicking on `Run` (or `ctrl-enter`). "
   ]
  },
  {
   "cell_type": "code",
   "execution_count": null,
   "metadata": {},
   "outputs": [],
   "source": []
  },
  {
   "cell_type": "markdown",
   "metadata": {},
   "source": [
    "### Hey but what about code?\n",
    "In addition to markdown to write formatted text, the most important mode of operation for Python programmers is the *code* mode. When a cell is in code mode, it expects to take in Python expressions. Then when you run them, instead of showing formatted text, it sends the code to the Python interpreter, and displays the output of your code. \n",
    "\n",
    "As an exercise, try running the following markdown cell:"
   ]
  },
  {
   "cell_type": "code",
   "execution_count": null,
   "metadata": {},
   "outputs": [],
   "source": [
    "1000 + 1000"
   ]
  },
  {
   "cell_type": "markdown",
   "metadata": {},
   "source": [
    "Now, for practice, enter three simple math expressions (subtraction, multiplication, division) in the following cell. Replace each pound sign by an expression. To show the results you should `print` them, so instead of just entering `6/3`, you should type in `print(6/3)`. This will force your Python interpreter to print out the result of the expression to your notebook. "
   ]
  },
  {
   "cell_type": "code",
   "execution_count": null,
   "metadata": {},
   "outputs": [],
   "source": [
    "#\n",
    "#\n",
    "#"
   ]
  },
  {
   "cell_type": "markdown",
   "metadata": {},
   "source": [
    "<img align = \"right\" width = \"75\" src=\".\\images\\hearts.png\"> We could spend a whole week on Jupyter notebooks and how to format them and do fun things with them, but our time will be better spent learning Python -- you now know plenty to get started with Part II of *Corona Coders*: it's time to start learning Python!"
   ]
  },
  {
   "cell_type": "markdown",
   "metadata": {},
   "source": [
    "## Quiz questions\n",
    "0. What is the difference between markdown and code mode?\n",
    "1. How can you switch between markdown and code modes in a cell?\n",
    "2. What are two ways to run the code/markdown entered into a cell?\n",
    "\n",
    "\n",
    "## To learn more\n",
    "More on Jupyter notebooks: https://jupyter-notebook.readthedocs.io/en/stable/notebook.html"
   ]
  },
  {
   "cell_type": "code",
   "execution_count": null,
   "metadata": {},
   "outputs": [],
   "source": []
  }
 ],
 "metadata": {
  "kernelspec": {
   "display_name": "Python 3",
   "language": "python",
   "name": "python3"
  },
  "language_info": {
   "codemirror_mode": {
    "name": "ipython",
    "version": 3
   },
   "file_extension": ".py",
   "mimetype": "text/x-python",
   "name": "python",
   "nbconvert_exporter": "python",
   "pygments_lexer": "ipython3",
   "version": "3.7.6"
  }
 },
 "nbformat": 4,
 "nbformat_minor": 4
}
